{
  "cells": [
    {
      "cell_type": "markdown",
      "metadata": {
        "id": "g1l77yXFSoLI"
      },
      "source": [
        "# Find Boat Ranges"
      ]
    },
    {
      "cell_type": "markdown",
      "metadata": {},
      "source": [
        "TO DO:\n",
        "- [X] add detection csv files to new madrid\n",
        "- [X] change data paths for acoustic detection and object detection datasets\n",
        "- [ ] create output dir on newmadrid\n",
        "- [ ] change output path to newmadrid output dir"
      ]
    },
    {
      "cell_type": "markdown",
      "metadata": {
        "id": "_KUWZFcuSfqS"
      },
      "source": [
        "## Environment set-up\n",
        "Load packages, connect google drive"
      ]
    },
    {
      "cell_type": "code",
      "execution_count": 1,
      "metadata": {
        "id": "TP9OeQYmvnfu"
      },
      "outputs": [],
      "source": [
        "# import packages\n",
        "import pandas as pd\n",
        "import seaborn as sns\n",
        "import geopandas as gpd\n",
        "from shapely.geometry import Point\n",
        "import matplotlib.pyplot as plt\n",
        "import os\n",
        "from geopy.distance import geodesic\n",
        "import math\n"
      ]
    },
    {
      "cell_type": "code",
      "execution_count": 2,
      "metadata": {},
      "outputs": [],
      "source": [
        "# make short path to data dir\n",
        "datadir = '/Users/swbrown/Desktop/remote_data/d_sbrown/FKNMS/data/'\n",
        "outdir = '/Users/swbrown/Desktop/remote_data/d_sbrown/FKNMS/output/'"
      ]
    },
    {
      "cell_type": "markdown",
      "metadata": {
        "id": "AoDS51FYSbGM"
      },
      "source": [
        "## User-defined functions"
      ]
    },
    {
      "cell_type": "code",
      "execution_count": 3,
      "metadata": {
        "id": "AdqvjFHdSZyU"
      },
      "outputs": [],
      "source": [
        "# Function to check if each time is included in at least one record of the dataset\n",
        "def is_time_in_dataset(times, dataset):\n",
        "    is_match = []\n",
        "    for time_to_check in times:\n",
        "        time_in_records = ((time_to_check >= dataset['ISOStartTime'].dt.tz_localize(None) - pd.Timedelta(minutes = 15))\n",
        "         & (time_to_check <= dataset['ISOEndTime'].dt.tz_localize(None) + pd.Timedelta(minutes = 15))).any()\n",
        "        if time_in_records:\n",
        "            is_match.append(True)\n",
        "        else:\n",
        "            is_match.append(False)\n",
        "\n",
        "    return is_match\n",
        "\n",
        "# Determine range grouping for each detection's distance from hydrophone\n",
        "def find_range_group(distance):\n",
        "  if distance <= 2000:\n",
        "    return \"<= 2 km\"\n",
        "  elif distance <= 5000:\n",
        "    return \"2 - 5 km\"\n",
        "  else:\n",
        "    return \"> 5 km\"\n",
        "\n",
        "# merge scenes\n",
        "def merge_scenes(df):\n",
        "    merged_data = []\n",
        "    i = 0\n",
        "    while i < len(df) - 1:\n",
        "        current_row = df.iloc[i]\n",
        "        next_row = df.iloc[i + 1]\n",
        "        time_diff = (pd.to_datetime(next_row['sceneTime']) - pd.to_datetime(current_row['sceneTime'])).total_seconds()\n",
        "        if time_diff <= 2:\n",
        "            # Merge information of consecutive scenes\n",
        "            merged_info = {\n",
        "                'merged_timestamp': current_row['sceneTime'],  # You may adjust this to your preference\n",
        "                'merged_info': {\n",
        "                    'boats_combined': current_row['boat'] + next_row['boat'],\n",
        "                    'wake_combined': current_row['boat_wake'] + next_row['boat_wake'],\n",
        "                    'matches': [current_row['matches'],  next_row['matches']],\n",
        "                    'scenes': [current_row['sceneTime'],  next_row['sceneTime']]\n",
        "                    # Merge other relevant information as needed\n",
        "                }\n",
        "            }\n",
        "            merged_data.append(merged_info)\n",
        "            i += 2  # Move to the next pair of scenes\n",
        "        else:\n",
        "            # No merging, keep the current scene as is\n",
        "            merged_data.append({\n",
        "                'merged_timestamp': current_row['sceneTime'],\n",
        "                'merged_info': {\n",
        "                    'boats_combined': current_row['boat'] ,\n",
        "                    'wake_combined': current_row['boat_wake'],\n",
        "                    'matches': [current_row['matches']],\n",
        "                    'scenes': [current_row['sceneTime']]\n",
        "                }\n",
        "            })\n",
        "            i += 1\n",
        "    return merged_data\n",
        "\n",
        "# Function to calculate the azimuth between two points\n",
        "def calculate_azimuth(point1, point2):\n",
        "    lat1, lon1 = math.radians(point1.y), math.radians(point1.x)\n",
        "    lat2, lon2 = math.radians(point2.y), math.radians(point2.x)\n",
        "    \n",
        "    dlon = lon2 - lon1\n",
        "    x = math.cos(lat2) * math.sin(dlon)\n",
        "    y = math.cos(lat1) * math.sin(lat2) - math.sin(lat1) * math.cos(lat2) * math.cos(dlon)\n",
        "    \n",
        "    bearing = math.atan2(x, y)\n",
        "    bearing = math.degrees(bearing)\n",
        "    bearing = (bearing + 360) % 360  # Ensuring the bearing is between 0 and 360 degrees\n",
        "    \n",
        "    return bearing"
      ]
    },
    {
      "cell_type": "markdown",
      "metadata": {
        "id": "4LDjTtsZSuAR"
      },
      "source": [
        "## Load data\n",
        "\n",
        "Note: Loading the detection dataset in a projected coordinate system UTM Zone 17N. New detections will not have any values in lat/lon column but all calculations will happen in the UTM CRS."
      ]
    },
    {
      "cell_type": "code",
      "execution_count": 4,
      "metadata": {
        "colab": {
          "base_uri": "https://localhost:8080/",
          "height": 206
        },
        "id": "wW2eVWKFvkZ1",
        "outputId": "085ce61c-50b2-41b6-d724-a0056615a565"
      },
      "outputs": [
        {
          "data": {
            "text/html": [
              "<div>\n",
              "<style scoped>\n",
              "    .dataframe tbody tr th:only-of-type {\n",
              "        vertical-align: middle;\n",
              "    }\n",
              "\n",
              "    .dataframe tbody tr th {\n",
              "        vertical-align: top;\n",
              "    }\n",
              "\n",
              "    .dataframe thead th {\n",
              "        text-align: right;\n",
              "    }\n",
              "</style>\n",
              "<table border=\"1\" class=\"dataframe\">\n",
              "  <thead>\n",
              "    <tr style=\"text-align: right;\">\n",
              "      <th></th>\n",
              "      <th>ISOStartTime</th>\n",
              "      <th>ISOEndTime</th>\n",
              "      <th>Labels</th>\n",
              "    </tr>\n",
              "  </thead>\n",
              "  <tbody>\n",
              "    <tr>\n",
              "      <th>0</th>\n",
              "      <td>2018-12-18 19:16:00+00:00</td>\n",
              "      <td>2018-12-18 19:38:10+00:00</td>\n",
              "      <td>ship</td>\n",
              "    </tr>\n",
              "    <tr>\n",
              "      <th>1</th>\n",
              "      <td>2018-12-18 19:44:40+00:00</td>\n",
              "      <td>2018-12-18 20:03:55+00:00</td>\n",
              "      <td>ship</td>\n",
              "    </tr>\n",
              "    <tr>\n",
              "      <th>2</th>\n",
              "      <td>2018-12-19 03:52:31+00:00</td>\n",
              "      <td>2018-12-19 04:09:16+00:00</td>\n",
              "      <td>ship</td>\n",
              "    </tr>\n",
              "    <tr>\n",
              "      <th>3</th>\n",
              "      <td>2018-12-19 13:11:53+00:00</td>\n",
              "      <td>2018-12-19 13:21:23+00:00</td>\n",
              "      <td>ship</td>\n",
              "    </tr>\n",
              "    <tr>\n",
              "      <th>4</th>\n",
              "      <td>2018-12-19 14:26:58+00:00</td>\n",
              "      <td>2018-12-19 14:37:08+00:00</td>\n",
              "      <td>ship</td>\n",
              "    </tr>\n",
              "  </tbody>\n",
              "</table>\n",
              "</div>"
            ],
            "text/plain": [
              "               ISOStartTime                ISOEndTime Labels\n",
              "0 2018-12-18 19:16:00+00:00 2018-12-18 19:38:10+00:00   ship\n",
              "1 2018-12-18 19:44:40+00:00 2018-12-18 20:03:55+00:00   ship\n",
              "2 2018-12-19 03:52:31+00:00 2018-12-19 04:09:16+00:00   ship\n",
              "3 2018-12-19 13:11:53+00:00 2018-12-19 13:21:23+00:00   ship\n",
              "4 2018-12-19 14:26:58+00:00 2018-12-19 14:37:08+00:00   ship"
            ]
          },
          "execution_count": 4,
          "metadata": {},
          "output_type": "execute_result"
        }
      ],
      "source": [
        "acoustic = pd.read_csv(os.path.join(datadir,\"sanctsound_products_detections_fk01_sanctsound_fk01_01_ships_data_SanctSound_FK01_01_ships.csv\"))\n",
        "# make start and end times datetime variables\n",
        "acoustic['ISOStartTime'] = pd.to_datetime(acoustic['ISOStartTime'])\n",
        "acoustic['ISOEndTime'] = pd.to_datetime(acoustic['ISOEndTime'])\n",
        "\n",
        "acoustic.head()"
      ]
    },
    {
      "cell_type": "code",
      "execution_count": 37,
      "metadata": {
        "colab": {
          "base_uri": "https://localhost:8080/"
        },
        "id": "1OAG0o7uvV0b",
        "outputId": "48dc54f1-7cc9-4efe-99ed-365dd163075c"
      },
      "outputs": [
        {
          "name": "stdout",
          "output_type": "stream",
          "text": [
            "Number of detections: (12582, 14)\n",
            "Number of detections with scenes removed: (11903, 14)\n",
            "Number of detections with scenes removed: (11718, 14)\n",
            "Number of detections with bad detections removed: (11657, 14)\n"
          ]
        },
        {
          "name": "stderr",
          "output_type": "stream",
          "text": [
            "/var/folders/rp/fs4mrjt96mldt29hv296qct00000gq/T/ipykernel_84407/3058961301.py:40: FutureWarning: A value is trying to be set on a copy of a DataFrame or Series through chained assignment using an inplace method.\n",
            "The behavior will change in pandas 3.0. This inplace method will never work because the intermediate object on which we are setting values always behaves as a copy.\n",
            "\n",
            "For example, when doing 'df[col].method(value, inplace=True)', try using 'df.method({col: value}, inplace=True)' or df[col] = df[col].method(value) instead, to perform the operation inplace on the original object.\n",
            "\n",
            "\n",
            "  planet['class'].replace({'new_boat': 'boat', 'new_wake': 'boat_wake'}, inplace=True)\n"
          ]
        }
      ],
      "source": [
        "# Read in verified detection table\n",
        "# Note planet imagery timestamp is in UTC\n",
        "planet = pd.read_csv(os.path.join(datadir,\"verified/wdr_2019_DetectionTable.csv\"))\n",
        "planet['sceneName'] = planet['chipName'].str.split(\"_clip\").str.get(0)\n",
        "planet['sceneTime'] = pd.to_datetime(planet['sceneName'].str[:15], format='%Y%m%d_%H%M%S')\n",
        "\n",
        "planet = gpd.GeoDataFrame(\n",
        "    planet, geometry=gpd.points_from_xy(planet.x, planet.y), crs=\"EPSG:32617\"\n",
        ")\n",
        "\n",
        "print(f\"Number of detections: {planet.shape}\")\n",
        "\n",
        "# filter out scenes that are \"invalid\"\n",
        "badScenes = ['20190122_152020_100d_3B_Visual','20190214_151824_104e_3B_Visual',\n",
        "             '20190214_151825_104e_3B_Visual','20190625_154315_1006_3B_Visual',\n",
        "             '20190625_154316_1006_3B_Visual','20190721_155428_42_1064_3B_Visual',\n",
        "             '20190831_155614_61_1057_3B_Visual', '20190923_154309_0f52_3B_Visual',\n",
        "             '20190923_154310_0f52_3B_Visual','20190306_153747_1004_3B_Visual']\n",
        "\n",
        "planet = planet[~planet['sceneName'].isin(badScenes)]\n",
        "\n",
        "print(f\"Number of detections with scenes removed: {planet.shape}\")\n",
        "\n",
        "# remove \"new detections\"\n",
        "planet = planet[planet['class'] != 'new_detection']\n",
        "\n",
        "print(f\"Number of detections with scenes removed: {planet.shape}\")\n",
        "\n",
        "# remove \"bad\" detections\n",
        "planet = planet[planet['verification'] != \"bad\"]\n",
        "print(f\"Number of detections with bad detections removed: {planet.shape}\")\n",
        "\n",
        "# make \"new_class\" detections boat/boat_wake and make \"verification\" = \"added\"\n",
        "\n",
        "# First add verification status\n",
        "mask = (planet['class'] == 'new_boat') | (planet['class'] == \"new_wake\")\n",
        "planet.loc[mask, 'verification'] = 'added'\n",
        "\n",
        "# then use \"replace\" function to make new_boat = boat and new_wake = boat_wake\n",
        "planet['class'].replace({'new_boat': 'boat', 'new_wake': 'boat_wake'}, inplace=True)\n"
      ]
    },
    {
      "cell_type": "code",
      "execution_count": 38,
      "metadata": {
        "colab": {
          "base_uri": "https://localhost:8080/"
        },
        "id": "7Mks2nPglD0_",
        "outputId": "50db0efa-ea1b-421d-bb36-66c02b314633"
      },
      "outputs": [
        {
          "data": {
            "text/plain": [
              "class\n",
              "none         9139\n",
              "boat         2016\n",
              "boat_wake     502\n",
              "Name: count, dtype: int64"
            ]
          },
          "execution_count": 38,
          "metadata": {},
          "output_type": "execute_result"
        }
      ],
      "source": [
        "planet['class'].value_counts()"
      ]
    },
    {
      "cell_type": "code",
      "execution_count": 39,
      "metadata": {
        "colab": {
          "base_uri": "https://localhost:8080/"
        },
        "id": "LiIZv0a8lIO8",
        "outputId": "f6cdff90-b15e-4f42-c36e-9aa44bc6a9c2"
      },
      "outputs": [
        {
          "data": {
            "text/plain": [
              "verification\n",
              "added            185\n",
              "misclassified     19\n",
              "Name: count, dtype: int64"
            ]
          },
          "execution_count": 39,
          "metadata": {},
          "output_type": "execute_result"
        }
      ],
      "source": [
        "planet['verification'].value_counts() # bad ones removed"
      ]
    },
    {
      "cell_type": "code",
      "execution_count": 40,
      "metadata": {},
      "outputs": [],
      "source": [
        "planet = planet[planet['class'] != 'none']"
      ]
    },
    {
      "cell_type": "code",
      "execution_count": 41,
      "metadata": {
        "id": "UzdpsfAjEMb9"
      },
      "outputs": [],
      "source": [
        "wdr = Point([-81.93068000000001,24.43313])\n",
        "wdr = gpd.GeoDataFrame(geometry=[wdr], crs=\"EPSG:4326\")  # Set CRS to EPSG:4326\n",
        "\n",
        "# Reproject the GeoDataFrame to a new CRS (e.g., EPSG:32610, UTM Zone 10N)\n",
        "wdr_utm = wdr.to_crs(\"EPSG:32617\")  # Reproject to same CRS as detection df\n",
        "wdr_utm_point = wdr_utm.geometry.iloc[0]\n",
        "\n",
        "planet['dist_to_hydrophone'] = planet.geometry.distance(wdr_utm_point)"
      ]
    },
    {
      "cell_type": "code",
      "execution_count": 42,
      "metadata": {},
      "outputs": [],
      "source": [
        "# reproject to EPSG:4326\n",
        "planet = planet.to_crs(\"EPSG:4326\")  # Reproject to sameCRS as detection df\n",
        "planet['azimuth'] = planet['geometry'].apply(lambda x: calculate_azimuth(x, wdr.geometry.iloc[0])) \n"
      ]
    },
    {
      "cell_type": "code",
      "execution_count": 44,
      "metadata": {
        "id": "kdhpLOlvwJbZ"
      },
      "outputs": [],
      "source": [
        "# Get list of images (no r_ c_)\n",
        "\n",
        "# reduce dataset to match the deployment start end times in NOAA dataset\n",
        "latest_time = acoustic['ISOEndTime'].max()\n",
        "latest_time = latest_time.date() + pd.Timedelta(days = 1)\n",
        "\n",
        "dep1 = planet[planet['sceneTime'] < pd.to_datetime(latest_time)]\n",
        "\n",
        "# Get list of images (no r_ c_)\n",
        "imageTimes = dep1['sceneTime'].unique()"
      ]
    },
    {
      "cell_type": "code",
      "execution_count": 45,
      "metadata": {
        "id": "EUflzUDCur6b"
      },
      "outputs": [],
      "source": [
        "matches = is_time_in_dataset(imageTimes, acoustic)\n",
        "checkImages = pd.DataFrame(data = {'sceneTime': imageTimes,'matches': matches})"
      ]
    },
    {
      "cell_type": "code",
      "execution_count": 46,
      "metadata": {
        "id": "4xKexoGjywqh"
      },
      "outputs": [],
      "source": [
        "df = pd.merge(dep1, checkImages, how = 'left', on = 'sceneTime')"
      ]
    },
    {
      "cell_type": "code",
      "execution_count": 47,
      "metadata": {
        "colab": {
          "base_uri": "https://localhost:8080/"
        },
        "id": "XAbFWdWp0iRO",
        "outputId": "dfe7a647-e729-47bb-cd24-1411588ffe1f"
      },
      "outputs": [
        {
          "data": {
            "text/plain": [
              "(1151, 17)"
            ]
          },
          "execution_count": 47,
          "metadata": {},
          "output_type": "execute_result"
        }
      ],
      "source": [
        "#df = df[df['class'] != 'none']\n",
        "df.shape"
      ]
    },
    {
      "cell_type": "code",
      "execution_count": 50,
      "metadata": {
        "id": "tZtpoiUTYp6v"
      },
      "outputs": [],
      "source": [
        "df['range_group'] = df['dist_to_hydrophone'].apply(find_range_group)\n",
        "\n",
        "# Define the order of facet levels\n",
        "facet_order = ['<= 2 km', '2 - 5 km', '> 5 km']\n",
        "\n",
        "# Convert facet_var to categorical with defined order\n",
        "df['range_group'] = pd.Categorical(df['range_group'], categories=facet_order, ordered=True)\n"
      ]
    },
    {
      "cell_type": "code",
      "execution_count": 58,
      "metadata": {},
      "outputs": [
        {
          "name": "stderr",
          "output_type": "stream",
          "text": [
            "/opt/anaconda3/envs/boat-detection/lib/python3.12/site-packages/geopandas/geodataframe.py:1525: SettingWithCopyWarning: \n",
            "A value is trying to be set on a copy of a slice from a DataFrame.\n",
            "Try using .loc[row_indexer,col_indexer] = value instead\n",
            "\n",
            "See the caveats in the documentation: https://pandas.pydata.org/pandas-docs/stable/user_guide/indexing.html#returning-a-view-versus-a-copy\n",
            "  super().__setitem__(key, value)\n",
            "/opt/anaconda3/envs/boat-detection/lib/python3.12/site-packages/geopandas/geodataframe.py:1525: SettingWithCopyWarning: \n",
            "A value is trying to be set on a copy of a slice from a DataFrame.\n",
            "Try using .loc[row_indexer,col_indexer] = value instead\n",
            "\n",
            "See the caveats in the documentation: https://pandas.pydata.org/pandas-docs/stable/user_guide/indexing.html#returning-a-view-versus-a-copy\n",
            "  super().__setitem__(key, value)\n",
            "/var/folders/rp/fs4mrjt96mldt29hv296qct00000gq/T/ipykernel_84407/2323629458.py:4: SettingWithCopyWarning: \n",
            "A value is trying to be set on a copy of a slice from a DataFrame\n",
            "\n",
            "See the caveats in the documentation: https://pandas.pydata.org/pandas-docs/stable/user_guide/indexing.html#returning-a-view-versus-a-copy\n",
            "  mod_df.drop(columns = ['geometry'], inplace = True)\n"
          ]
        }
      ],
      "source": [
        "\n",
        "mod_df = df[['class','sceneTime', 'geometry','azimuth', 'dist_to_hydrophone', 'matches']]\n",
        "mod_df['lat'] = mod_df['geometry'].apply(lambda point: point.y)\n",
        "mod_df['lon'] = mod_df['geometry'].apply(lambda point: point.x)\n",
        "mod_df.drop(columns = ['geometry'], inplace = True)\n",
        "#df.to_csv(os.path.join(outdir,\"wdr_detection_info.csv\"), index = False)\n",
        "mod_df.to_csv(os.path.join(outdir,\"wdr_detection_info.csv\"), index = False)"
      ]
    },
    {
      "cell_type": "code",
      "execution_count": 52,
      "metadata": {},
      "outputs": [
        {
          "data": {
            "text/plain": [
              "Index(['chipName', 'chipTime', 'class', 'x', 'y', 'w', 'h', 'conf', 'lat',\n",
              "       'lon', 'verification', 'sceneName', 'sceneTime', 'geometry',\n",
              "       'dist_to_hydrophone', 'azimuth', 'matches', 'range_group'],\n",
              "      dtype='object')"
            ]
          },
          "execution_count": 52,
          "metadata": {},
          "output_type": "execute_result"
        }
      ],
      "source": [
        "df.columns"
      ]
    },
    {
      "cell_type": "code",
      "execution_count": null,
      "metadata": {},
      "outputs": [],
      "source": []
    },
    {
      "cell_type": "markdown",
      "metadata": {
        "id": "rvQ_lVZp0SGa"
      },
      "source": [
        "## Visualizations"
      ]
    },
    {
      "cell_type": "code",
      "execution_count": null,
      "metadata": {
        "id": "stzOh_uP0R5i"
      },
      "outputs": [],
      "source": []
    },
    {
      "cell_type": "code",
      "execution_count": null,
      "metadata": {
        "colab": {
          "base_uri": "https://localhost:8080/",
          "height": 448
        },
        "id": "JjmrFNlfhnW4",
        "outputId": "cb86d352-1940-461b-ab8b-a64091e8669a"
      },
      "outputs": [
        {
          "data": {
            "text/plain": [
              "<Axes: ylabel='Frequency'>"
            ]
          },
          "execution_count": 16,
          "metadata": {},
          "output_type": "execute_result"
        },
        {
          "data": {
            "image/png": "[encoded data removed]",
            "text/plain": [
              "<Figure size 640x480 with 1 Axes>"
            ]
          },
          "metadata": {},
          "output_type": "display_data"
        }
      ],
      "source": [
        "df['dist_to_hydrophone'].plot.hist(bins = 20)"
      ]
    },
    {
      "cell_type": "code",
      "execution_count": null,
      "metadata": {
        "colab": {
          "base_uri": "https://localhost:8080/",
          "height": 309
        },
        "id": "hw6gJpn1IkG3",
        "outputId": "b8295813-a73d-4dd3-face-185d5afc3b77"
      },
      "outputs": [
        {
          "data": {
            "text/plain": [
              "<matplotlib.collections.PathCollection at 0x7aa42ef08160>"
            ]
          },
          "execution_count": 17,
          "metadata": {},
          "output_type": "execute_result"
        },
        {
          "data": {
            "image/png": "[encoded data removed]",
            "text/plain": [
              "<Figure size 900x300 with 1 Axes>"
            ]
          },
          "metadata": {},
          "output_type": "display_data"
        }
      ],
      "source": [
        "colors = {True: 'red', False: 'black'}\n",
        "\n",
        "df['marker_color'] = df['matches'].map(colors)\n",
        "\n",
        "plt.figure(figsize=(9, 3))\n",
        "\n",
        "plt.scatter(df['dist_to_hydrophone'], df['class'], c=df['marker_color'],alpha = 0.5)\n"
      ]
    },
    {
      "cell_type": "code",
      "execution_count": null,
      "metadata": {
        "colab": {
          "base_uri": "https://localhost:8080/",
          "height": 468
        },
        "id": "2zXCzpvx2NPQ",
        "outputId": "e4c90a24-a4d3-4a3f-f846-d0108f821bbf"
      },
      "outputs": [
        {
          "data": {
            "text/plain": [
              "<Axes: xlabel='class', ylabel='dist_to_hydrophone'>"
            ]
          },
          "execution_count": 18,
          "metadata": {},
          "output_type": "execute_result"
        },
        {
          "data": {
            "image/png": "[encoded data removed]",
            "text/plain": [
              "<Figure size 640x480 with 1 Axes>"
            ]
          },
          "metadata": {},
          "output_type": "display_data"
        }
      ],
      "source": [
        "sns.violinplot(data=df, x='class', y='dist_to_hydrophone', hue='matches', split=True)\n"
      ]
    },
    {
      "cell_type": "code",
      "execution_count": null,
      "metadata": {
        "colab": {
          "base_uri": "https://localhost:8080/",
          "height": 471
        },
        "id": "kxjz_dgtZsVX",
        "outputId": "2970ac39-b174-4b3f-eec8-76093992addc"
      },
      "outputs": [
        {
          "data": {
            "text/plain": [
              "<seaborn.axisgrid.FacetGrid at 0x7aa43155d9f0>"
            ]
          },
          "execution_count": 19,
          "metadata": {},
          "output_type": "execute_result"
        },
        {
          "data": {
            "image/png": "[encoded data removed]",
            "text/plain": [
              "<Figure size 1584.88x500 with 3 Axes>"
            ]
          },
          "metadata": {},
          "output_type": "display_data"
        }
      ],
      "source": [
        "sns.catplot(x='class', y='dist_to_hydrophone', hue='matches',\n",
        "            col='range_group', kind='violin', split=True, data=df)\n"
      ]
    },
    {
      "cell_type": "markdown",
      "metadata": {
        "id": "_nUZ5nnT0ZPn"
      },
      "source": [
        "## Summaries\n"
      ]
    },
    {
      "cell_type": "code",
      "execution_count": null,
      "metadata": {
        "colab": {
          "base_uri": "https://localhost:8080/",
          "height": 455
        },
        "id": "lVUPB1Rw4VWV",
        "outputId": "5f9233b7-9d86-4edc-b412-6e2033b429fc"
      },
      "outputs": [
        {
          "data": {
            "application/vnd.google.colaboratory.intrinsic+json": {
              "summary": "{\n  \"name\": \"summary_df\",\n  \"rows\": 101,\n  \"fields\": [\n    {\n      \"column\": \"sceneTime\",\n      \"properties\": {\n        \"dtype\": \"date\",\n        \"min\": \"2019-01-01 15:24:15\",\n        \"max\": \"2019-04-19 15:39:58\",\n        \"num_unique_values\": 101,\n        \"samples\": [\n          \"2019-04-03 15:40:03\",\n          \"2019-03-11 15:13:22\",\n          \"2019-03-22 15:11:23\"\n        ],\n        \"semantic_type\": \"\",\n        \"description\": \"\"\n      }\n    },\n    {\n      \"column\": \"boat\",\n      \"properties\": {\n        \"dtype\": \"number\",\n        \"std\": 7,\n        \"min\": 0,\n        \"max\": 35,\n        \"num_unique_values\": 25,\n        \"samples\": [\n          10,\n          12,\n          0\n        ],\n        \"semantic_type\": \"\",\n        \"description\": \"\"\n      }\n    },\n    {\n      \"column\": \"boat_wake\",\n      \"properties\": {\n        \"dtype\": \"number\",\n        \"std\": 1,\n        \"min\": 0,\n        \"max\": 11,\n        \"num_unique_values\": 8,\n        \"samples\": [\n          5,\n          3,\n          1\n        ],\n        \"semantic_type\": \"\",\n        \"description\": \"\"\n      }\n    },\n    {\n      \"column\": \"none\",\n      \"properties\": {\n        \"dtype\": \"number\",\n        \"std\": 7,\n        \"min\": 18,\n        \"max\": 68,\n        \"num_unique_values\": 30,\n        \"samples\": [\n          68,\n          30,\n          50\n        ],\n        \"semantic_type\": \"\",\n        \"description\": \"\"\n      }\n    }\n  ]\n}",
              "type": "dataframe",
              "variable_name": "summary_df"
            },
            "text/html": [
              "\n",
              "  <div id=\"df-2e13973d-90b2-4ca2-af72-db2e710a8dae\" class=\"colab-df-container\">\n",
              "    <div>\n",
              "<style scoped>\n",
              "    .dataframe tbody tr th:only-of-type {\n",
              "        vertical-align: middle;\n",
              "    }\n",
              "\n",
              "    .dataframe tbody tr th {\n",
              "        vertical-align: top;\n",
              "    }\n",
              "\n",
              "    .dataframe thead th {\n",
              "        text-align: right;\n",
              "    }\n",
              "</style>\n",
              "<table border=\"1\" class=\"dataframe\">\n",
              "  <thead>\n",
              "    <tr style=\"text-align: right;\">\n",
              "      <th>class</th>\n",
              "      <th>boat</th>\n",
              "      <th>boat_wake</th>\n",
              "      <th>none</th>\n",
              "    </tr>\n",
              "    <tr>\n",
              "      <th>sceneTime</th>\n",
              "      <th></th>\n",
              "      <th></th>\n",
              "      <th></th>\n",
              "    </tr>\n",
              "  </thead>\n",
              "  <tbody>\n",
              "    <tr>\n",
              "      <th>2019-01-01 15:24:15</th>\n",
              "      <td>0</td>\n",
              "      <td>1</td>\n",
              "      <td>33</td>\n",
              "    </tr>\n",
              "    <tr>\n",
              "      <th>2019-01-03 15:38:48</th>\n",
              "      <td>17</td>\n",
              "      <td>5</td>\n",
              "      <td>37</td>\n",
              "    </tr>\n",
              "    <tr>\n",
              "      <th>2019-01-03 15:38:49</th>\n",
              "      <td>3</td>\n",
              "      <td>2</td>\n",
              "      <td>25</td>\n",
              "    </tr>\n",
              "    <tr>\n",
              "      <th>2019-01-06 15:38:33</th>\n",
              "      <td>7</td>\n",
              "      <td>1</td>\n",
              "      <td>40</td>\n",
              "    </tr>\n",
              "    <tr>\n",
              "      <th>2019-01-06 15:38:34</th>\n",
              "      <td>6</td>\n",
              "      <td>1</td>\n",
              "      <td>31</td>\n",
              "    </tr>\n",
              "    <tr>\n",
              "      <th>...</th>\n",
              "      <td>...</td>\n",
              "      <td>...</td>\n",
              "      <td>...</td>\n",
              "    </tr>\n",
              "    <tr>\n",
              "      <th>2019-04-18 15:39:21</th>\n",
              "      <td>8</td>\n",
              "      <td>2</td>\n",
              "      <td>37</td>\n",
              "    </tr>\n",
              "    <tr>\n",
              "      <th>2019-04-19 15:09:28</th>\n",
              "      <td>9</td>\n",
              "      <td>0</td>\n",
              "      <td>39</td>\n",
              "    </tr>\n",
              "    <tr>\n",
              "      <th>2019-04-19 15:09:29</th>\n",
              "      <td>2</td>\n",
              "      <td>0</td>\n",
              "      <td>26</td>\n",
              "    </tr>\n",
              "    <tr>\n",
              "      <th>2019-04-19 15:39:57</th>\n",
              "      <td>2</td>\n",
              "      <td>1</td>\n",
              "      <td>33</td>\n",
              "    </tr>\n",
              "    <tr>\n",
              "      <th>2019-04-19 15:39:58</th>\n",
              "      <td>5</td>\n",
              "      <td>0</td>\n",
              "      <td>38</td>\n",
              "    </tr>\n",
              "  </tbody>\n",
              "</table>\n",
              "<p>101 rows × 3 columns</p>\n",
              "</div>\n",
              "    <div class=\"colab-df-buttons\">\n",
              "\n",
              "  <div class=\"colab-df-container\">\n",
              "    <button class=\"colab-df-convert\" onclick=\"convertToInteractive('df-2e13973d-90b2-4ca2-af72-db2e710a8dae')\"\n",
              "            title=\"Convert this dataframe to an interactive table.\"\n",
              "            style=\"display:none;\">\n",
              "\n",
              "  <svg xmlns=\"http://www.w3.org/2000/svg\" height=\"24px\" viewBox=\"0 -960 960 960\">\n",
              "    <path d=\"M120-120v-720h720v720H120Zm60-500h600v-160H180v160Zm220 220h160v-160H400v160Zm0 220h160v-160H400v160ZM180-400h160v-160H180v160Zm440 0h160v-160H620v160ZM180-180h160v-160H180v160Zm440 0h160v-160H620v160Z\"/>\n",
              "  </svg>\n",
              "    </button>\n",
              "\n",
              "  <style>\n",
              "    .colab-df-container {\n",
              "      display:flex;\n",
              "      gap: 12px;\n",
              "    }\n",
              "\n",
              "    .colab-df-convert {\n",
              "      background-color: #E8F0FE;\n",
              "      border: none;\n",
              "      border-radius: 50%;\n",
              "      cursor: pointer;\n",
              "      display: none;\n",
              "      fill: #1967D2;\n",
              "      height: 32px;\n",
              "      padding: 0 0 0 0;\n",
              "      width: 32px;\n",
              "    }\n",
              "\n",
              "    .colab-df-convert:hover {\n",
              "      background-color: #E2EBFA;\n",
              "      box-shadow: 0px 1px 2px rgba(60, 64, 67, 0.3), 0px 1px 3px 1px rgba(60, 64, 67, 0.15);\n",
              "      fill: #174EA6;\n",
              "    }\n",
              "\n",
              "    .colab-df-buttons div {\n",
              "      margin-bottom: 4px;\n",
              "    }\n",
              "\n",
              "    [theme=dark] .colab-df-convert {\n",
              "      background-color: #3B4455;\n",
              "      fill: #D2E3FC;\n",
              "    }\n",
              "\n",
              "    [theme=dark] .colab-df-convert:hover {\n",
              "      background-color: #434B5C;\n",
              "      box-shadow: 0px 1px 3px 1px rgba(0, 0, 0, 0.15);\n",
              "      filter: drop-shadow(0px 1px 2px rgba(0, 0, 0, 0.3));\n",
              "      fill: #FFFFFF;\n",
              "    }\n",
              "  </style>\n",
              "\n",
              "    <script>\n",
              "      const buttonEl =\n",
              "        document.querySelector('#df-2e13973d-90b2-4ca2-af72-db2e710a8dae button.colab-df-convert');\n",
              "      buttonEl.style.display =\n",
              "        google.colab.kernel.accessAllowed ? 'block' : 'none';\n",
              "\n",
              "      async function convertToInteractive(key) {\n",
              "        const element = document.querySelector('#df-2e13973d-90b2-4ca2-af72-db2e710a8dae');\n",
              "        const dataTable =\n",
              "          await google.colab.kernel.invokeFunction('convertToInteractive',\n",
              "                                                    [key], {});\n",
              "        if (!dataTable) return;\n",
              "\n",
              "        const docLinkHtml = 'Like what you see? Visit the ' +\n",
              "          '<a target=\"_blank\" href=https://colab.research.google.com/notebooks/data_table.ipynb>data table notebook</a>'\n",
              "          + ' to learn more about interactive tables.';\n",
              "        element.innerHTML = '';\n",
              "        dataTable['output_type'] = 'display_data';\n",
              "        await google.colab.output.renderOutput(dataTable, element);\n",
              "        const docLink = document.createElement('div');\n",
              "        docLink.innerHTML = docLinkHtml;\n",
              "        element.appendChild(docLink);\n",
              "      }\n",
              "    </script>\n",
              "  </div>\n",
              "\n",
              "\n",
              "<div id=\"df-a5fc8b92-7433-4b91-8727-57034f2d4920\">\n",
              "  <button class=\"colab-df-quickchart\" onclick=\"quickchart('df-a5fc8b92-7433-4b91-8727-57034f2d4920')\"\n",
              "            title=\"Suggest charts\"\n",
              "            style=\"display:none;\">\n",
              "\n",
              "<svg xmlns=\"http://www.w3.org/2000/svg\" height=\"24px\"viewBox=\"0 0 24 24\"\n",
              "     width=\"24px\">\n",
              "    <g>\n",
              "        <path d=\"M19 3H5c-1.1 0-2 .9-2 2v14c0 1.1.9 2 2 2h14c1.1 0 2-.9 2-2V5c0-1.1-.9-2-2-2zM9 17H7v-7h2v7zm4 0h-2V7h2v10zm4 0h-2v-4h2v4z\"/>\n",
              "    </g>\n",
              "</svg>\n",
              "  </button>\n",
              "\n",
              "<style>\n",
              "  .colab-df-quickchart {\n",
              "      --bg-color: #E8F0FE;\n",
              "      --fill-color: #1967D2;\n",
              "      --hover-bg-color: #E2EBFA;\n",
              "      --hover-fill-color: #174EA6;\n",
              "      --disabled-fill-color: #AAA;\n",
              "      --disabled-bg-color: #DDD;\n",
              "  }\n",
              "\n",
              "  [theme=dark] .colab-df-quickchart {\n",
              "      --bg-color: #3B4455;\n",
              "      --fill-color: #D2E3FC;\n",
              "      --hover-bg-color: #434B5C;\n",
              "      --hover-fill-color: #FFFFFF;\n",
              "      --disabled-bg-color: #3B4455;\n",
              "      --disabled-fill-color: #666;\n",
              "  }\n",
              "\n",
              "  .colab-df-quickchart {\n",
              "    background-color: var(--bg-color);\n",
              "    border: none;\n",
              "    border-radius: 50%;\n",
              "    cursor: pointer;\n",
              "    display: none;\n",
              "    fill: var(--fill-color);\n",
              "    height: 32px;\n",
              "    padding: 0;\n",
              "    width: 32px;\n",
              "  }\n",
              "\n",
              "  .colab-df-quickchart:hover {\n",
              "    background-color: var(--hover-bg-color);\n",
              "    box-shadow: 0 1px 2px rgba(60, 64, 67, 0.3), 0 1px 3px 1px rgba(60, 64, 67, 0.15);\n",
              "    fill: var(--button-hover-fill-color);\n",
              "  }\n",
              "\n",
              "  .colab-df-quickchart-complete:disabled,\n",
              "  .colab-df-quickchart-complete:disabled:hover {\n",
              "    background-color: var(--disabled-bg-color);\n",
              "    fill: var(--disabled-fill-color);\n",
              "    box-shadow: none;\n",
              "  }\n",
              "\n",
              "  .colab-df-spinner {\n",
              "    border: 2px solid var(--fill-color);\n",
              "    border-color: transparent;\n",
              "    border-bottom-color: var(--fill-color);\n",
              "    animation:\n",
              "      spin 1s steps(1) infinite;\n",
              "  }\n",
              "\n",
              "  @keyframes spin {\n",
              "    0% {\n",
              "      border-color: transparent;\n",
              "      border-bottom-color: var(--fill-color);\n",
              "      border-left-color: var(--fill-color);\n",
              "    }\n",
              "    20% {\n",
              "      border-color: transparent;\n",
              "      border-left-color: var(--fill-color);\n",
              "      border-top-color: var(--fill-color);\n",
              "    }\n",
              "    30% {\n",
              "      border-color: transparent;\n",
              "      border-left-color: var(--fill-color);\n",
              "      border-top-color: var(--fill-color);\n",
              "      border-right-color: var(--fill-color);\n",
              "    }\n",
              "    40% {\n",
              "      border-color: transparent;\n",
              "      border-right-color: var(--fill-color);\n",
              "      border-top-color: var(--fill-color);\n",
              "    }\n",
              "    60% {\n",
              "      border-color: transparent;\n",
              "      border-right-color: var(--fill-color);\n",
              "    }\n",
              "    80% {\n",
              "      border-color: transparent;\n",
              "      border-right-color: var(--fill-color);\n",
              "      border-bottom-color: var(--fill-color);\n",
              "    }\n",
              "    90% {\n",
              "      border-color: transparent;\n",
              "      border-bottom-color: var(--fill-color);\n",
              "    }\n",
              "  }\n",
              "</style>\n",
              "\n",
              "  <script>\n",
              "    async function quickchart(key) {\n",
              "      const quickchartButtonEl =\n",
              "        document.querySelector('#' + key + ' button');\n",
              "      quickchartButtonEl.disabled = true;  // To prevent multiple clicks.\n",
              "      quickchartButtonEl.classList.add('colab-df-spinner');\n",
              "      try {\n",
              "        const charts = await google.colab.kernel.invokeFunction(\n",
              "            'suggestCharts', [key], {});\n",
              "      } catch (error) {\n",
              "        console.error('Error during call to suggestCharts:', error);\n",
              "      }\n",
              "      quickchartButtonEl.classList.remove('colab-df-spinner');\n",
              "      quickchartButtonEl.classList.add('colab-df-quickchart-complete');\n",
              "    }\n",
              "    (() => {\n",
              "      let quickchartButtonEl =\n",
              "        document.querySelector('#df-a5fc8b92-7433-4b91-8727-57034f2d4920 button');\n",
              "      quickchartButtonEl.style.display =\n",
              "        google.colab.kernel.accessAllowed ? 'block' : 'none';\n",
              "    })();\n",
              "  </script>\n",
              "</div>\n",
              "    </div>\n",
              "  </div>\n"
            ],
            "text/plain": [
              "class                boat  boat_wake  none\n",
              "sceneTime                                 \n",
              "2019-01-01 15:24:15     0          1    33\n",
              "2019-01-03 15:38:48    17          5    37\n",
              "2019-01-03 15:38:49     3          2    25\n",
              "2019-01-06 15:38:33     7          1    40\n",
              "2019-01-06 15:38:34     6          1    31\n",
              "...                   ...        ...   ...\n",
              "2019-04-18 15:39:21     8          2    37\n",
              "2019-04-19 15:09:28     9          0    39\n",
              "2019-04-19 15:09:29     2          0    26\n",
              "2019-04-19 15:39:57     2          1    33\n",
              "2019-04-19 15:39:58     5          0    38\n",
              "\n",
              "[101 rows x 3 columns]"
            ]
          },
          "execution_count": 16,
          "metadata": {},
          "output_type": "execute_result"
        }
      ],
      "source": [
        "summary_df = df.groupby(['sceneTime', 'class']).size().unstack(fill_value=0)\n",
        "summary_df = pd.merge(summary_df,checkImages, how = 'left', on = 'sceneTime')\n",
        "summary_df"
      ]
    },
    {
      "cell_type": "code",
      "execution_count": null,
      "metadata": {
        "id": "jN2w-46h1Y6L"
      },
      "outputs": [],
      "source": [
        "merged_scenes= merge_scenes(summary_df)"
      ]
    },
    {
      "cell_type": "code",
      "execution_count": null,
      "metadata": {
        "colab": {
          "base_uri": "https://localhost:8080/",
          "height": 471
        },
        "id": "BbbA96pm1gnj",
        "outputId": "974973dc-b6b5-42c8-dbd3-fef3f7f60109"
      },
      "outputs": [
        {
          "data": {
            "application/vnd.google.colaboratory.intrinsic+json": {
              "summary": "{\n  \"name\": \"merged_df\",\n  \"rows\": 65,\n  \"fields\": [\n    {\n      \"column\": \"merged_timestamp\",\n      \"properties\": {\n        \"dtype\": \"date\",\n        \"min\": \"2019-01-01 15:24:15\",\n        \"max\": \"2019-04-19 15:39:57\",\n        \"num_unique_values\": 65,\n        \"samples\": [\n          \"2019-04-02 15:07:59\",\n          \"2019-04-13 15:42:43\",\n          \"2019-01-01 15:24:15\"\n        ],\n        \"semantic_type\": \"\",\n        \"description\": \"\"\n      }\n    },\n    {\n      \"column\": \"merged_info\",\n      \"properties\": {\n        \"dtype\": \"object\",\n        \"semantic_type\": \"\",\n        \"description\": \"\"\n      }\n    }\n  ]\n}",
              "type": "dataframe",
              "variable_name": "merged_df"
            },
            "text/html": [
              "\n",
              "  <div id=\"df-3e232935-3eda-426c-b9e5-dfd7c9f8bf5d\" class=\"colab-df-container\">\n",
              "    <div>\n",
              "<style scoped>\n",
              "    .dataframe tbody tr th:only-of-type {\n",
              "        vertical-align: middle;\n",
              "    }\n",
              "\n",
              "    .dataframe tbody tr th {\n",
              "        vertical-align: top;\n",
              "    }\n",
              "\n",
              "    .dataframe thead th {\n",
              "        text-align: right;\n",
              "    }\n",
              "</style>\n",
              "<table border=\"1\" class=\"dataframe\">\n",
              "  <thead>\n",
              "    <tr style=\"text-align: right;\">\n",
              "      <th></th>\n",
              "      <th>merged_timestamp</th>\n",
              "      <th>merged_info</th>\n",
              "    </tr>\n",
              "  </thead>\n",
              "  <tbody>\n",
              "    <tr>\n",
              "      <th>0</th>\n",
              "      <td>2019-01-01 15:24:15</td>\n",
              "      <td>{'boats_combined': 0, 'wake_combined': 1, 'mat...</td>\n",
              "    </tr>\n",
              "    <tr>\n",
              "      <th>1</th>\n",
              "      <td>2019-01-03 15:38:48</td>\n",
              "      <td>{'boats_combined': 20, 'wake_combined': 7, 'ma...</td>\n",
              "    </tr>\n",
              "    <tr>\n",
              "      <th>2</th>\n",
              "      <td>2019-01-06 15:38:33</td>\n",
              "      <td>{'boats_combined': 13, 'wake_combined': 2, 'ma...</td>\n",
              "    </tr>\n",
              "    <tr>\n",
              "      <th>3</th>\n",
              "      <td>2019-01-08 15:31:45</td>\n",
              "      <td>{'boats_combined': 11, 'wake_combined': 2, 'ma...</td>\n",
              "    </tr>\n",
              "    <tr>\n",
              "      <th>4</th>\n",
              "      <td>2019-01-09 15:38:16</td>\n",
              "      <td>{'boats_combined': 30, 'wake_combined': 1, 'ma...</td>\n",
              "    </tr>\n",
              "    <tr>\n",
              "      <th>...</th>\n",
              "      <td>...</td>\n",
              "      <td>...</td>\n",
              "    </tr>\n",
              "    <tr>\n",
              "      <th>60</th>\n",
              "      <td>2019-04-13 15:42:43</td>\n",
              "      <td>{'boats_combined': 2, 'wake_combined': 1, 'mat...</td>\n",
              "    </tr>\n",
              "    <tr>\n",
              "      <th>61</th>\n",
              "      <td>2019-04-15 15:38:52</td>\n",
              "      <td>{'boats_combined': 4, 'wake_combined': 4, 'mat...</td>\n",
              "    </tr>\n",
              "    <tr>\n",
              "      <th>62</th>\n",
              "      <td>2019-04-18 15:39:20</td>\n",
              "      <td>{'boats_combined': 14, 'wake_combined': 2, 'ma...</td>\n",
              "    </tr>\n",
              "    <tr>\n",
              "      <th>63</th>\n",
              "      <td>2019-04-19 15:09:28</td>\n",
              "      <td>{'boats_combined': 11, 'wake_combined': 0, 'ma...</td>\n",
              "    </tr>\n",
              "    <tr>\n",
              "      <th>64</th>\n",
              "      <td>2019-04-19 15:39:57</td>\n",
              "      <td>{'boats_combined': 7, 'wake_combined': 1, 'mat...</td>\n",
              "    </tr>\n",
              "  </tbody>\n",
              "</table>\n",
              "<p>65 rows × 2 columns</p>\n",
              "</div>\n",
              "    <div class=\"colab-df-buttons\">\n",
              "\n",
              "  <div class=\"colab-df-container\">\n",
              "    <button class=\"colab-df-convert\" onclick=\"convertToInteractive('df-3e232935-3eda-426c-b9e5-dfd7c9f8bf5d')\"\n",
              "            title=\"Convert this dataframe to an interactive table.\"\n",
              "            style=\"display:none;\">\n",
              "\n",
              "  <svg xmlns=\"http://www.w3.org/2000/svg\" height=\"24px\" viewBox=\"0 -960 960 960\">\n",
              "    <path d=\"M120-120v-720h720v720H120Zm60-500h600v-160H180v160Zm220 220h160v-160H400v160Zm0 220h160v-160H400v160ZM180-400h160v-160H180v160Zm440 0h160v-160H620v160ZM180-180h160v-160H180v160Zm440 0h160v-160H620v160Z\"/>\n",
              "  </svg>\n",
              "    </button>\n",
              "\n",
              "  <style>\n",
              "    .colab-df-container {\n",
              "      display:flex;\n",
              "      gap: 12px;\n",
              "    }\n",
              "\n",
              "    .colab-df-convert {\n",
              "      background-color: #E8F0FE;\n",
              "      border: none;\n",
              "      border-radius: 50%;\n",
              "      cursor: pointer;\n",
              "      display: none;\n",
              "      fill: #1967D2;\n",
              "      height: 32px;\n",
              "      padding: 0 0 0 0;\n",
              "      width: 32px;\n",
              "    }\n",
              "\n",
              "    .colab-df-convert:hover {\n",
              "      background-color: #E2EBFA;\n",
              "      box-shadow: 0px 1px 2px rgba(60, 64, 67, 0.3), 0px 1px 3px 1px rgba(60, 64, 67, 0.15);\n",
              "      fill: #174EA6;\n",
              "    }\n",
              "\n",
              "    .colab-df-buttons div {\n",
              "      margin-bottom: 4px;\n",
              "    }\n",
              "\n",
              "    [theme=dark] .colab-df-convert {\n",
              "      background-color: #3B4455;\n",
              "      fill: #D2E3FC;\n",
              "    }\n",
              "\n",
              "    [theme=dark] .colab-df-convert:hover {\n",
              "      background-color: #434B5C;\n",
              "      box-shadow: 0px 1px 3px 1px rgba(0, 0, 0, 0.15);\n",
              "      filter: drop-shadow(0px 1px 2px rgba(0, 0, 0, 0.3));\n",
              "      fill: #FFFFFF;\n",
              "    }\n",
              "  </style>\n",
              "\n",
              "    <script>\n",
              "      const buttonEl =\n",
              "        document.querySelector('#df-3e232935-3eda-426c-b9e5-dfd7c9f8bf5d button.colab-df-convert');\n",
              "      buttonEl.style.display =\n",
              "        google.colab.kernel.accessAllowed ? 'block' : 'none';\n",
              "\n",
              "      async function convertToInteractive(key) {\n",
              "        const element = document.querySelector('#df-3e232935-3eda-426c-b9e5-dfd7c9f8bf5d');\n",
              "        const dataTable =\n",
              "          await google.colab.kernel.invokeFunction('convertToInteractive',\n",
              "                                                    [key], {});\n",
              "        if (!dataTable) return;\n",
              "\n",
              "        const docLinkHtml = 'Like what you see? Visit the ' +\n",
              "          '<a target=\"_blank\" href=https://colab.research.google.com/notebooks/data_table.ipynb>data table notebook</a>'\n",
              "          + ' to learn more about interactive tables.';\n",
              "        element.innerHTML = '';\n",
              "        dataTable['output_type'] = 'display_data';\n",
              "        await google.colab.output.renderOutput(dataTable, element);\n",
              "        const docLink = document.createElement('div');\n",
              "        docLink.innerHTML = docLinkHtml;\n",
              "        element.appendChild(docLink);\n",
              "      }\n",
              "    </script>\n",
              "  </div>\n",
              "\n",
              "\n",
              "<div id=\"df-75a69414-ee1c-49b2-b38b-2d247f6ec6ee\">\n",
              "  <button class=\"colab-df-quickchart\" onclick=\"quickchart('df-75a69414-ee1c-49b2-b38b-2d247f6ec6ee')\"\n",
              "            title=\"Suggest charts\"\n",
              "            style=\"display:none;\">\n",
              "\n",
              "<svg xmlns=\"http://www.w3.org/2000/svg\" height=\"24px\"viewBox=\"0 0 24 24\"\n",
              "     width=\"24px\">\n",
              "    <g>\n",
              "        <path d=\"M19 3H5c-1.1 0-2 .9-2 2v14c0 1.1.9 2 2 2h14c1.1 0 2-.9 2-2V5c0-1.1-.9-2-2-2zM9 17H7v-7h2v7zm4 0h-2V7h2v10zm4 0h-2v-4h2v4z\"/>\n",
              "    </g>\n",
              "</svg>\n",
              "  </button>\n",
              "\n",
              "<style>\n",
              "  .colab-df-quickchart {\n",
              "      --bg-color: #E8F0FE;\n",
              "      --fill-color: #1967D2;\n",
              "      --hover-bg-color: #E2EBFA;\n",
              "      --hover-fill-color: #174EA6;\n",
              "      --disabled-fill-color: #AAA;\n",
              "      --disabled-bg-color: #DDD;\n",
              "  }\n",
              "\n",
              "  [theme=dark] .colab-df-quickchart {\n",
              "      --bg-color: #3B4455;\n",
              "      --fill-color: #D2E3FC;\n",
              "      --hover-bg-color: #434B5C;\n",
              "      --hover-fill-color: #FFFFFF;\n",
              "      --disabled-bg-color: #3B4455;\n",
              "      --disabled-fill-color: #666;\n",
              "  }\n",
              "\n",
              "  .colab-df-quickchart {\n",
              "    background-color: var(--bg-color);\n",
              "    border: none;\n",
              "    border-radius: 50%;\n",
              "    cursor: pointer;\n",
              "    display: none;\n",
              "    fill: var(--fill-color);\n",
              "    height: 32px;\n",
              "    padding: 0;\n",
              "    width: 32px;\n",
              "  }\n",
              "\n",
              "  .colab-df-quickchart:hover {\n",
              "    background-color: var(--hover-bg-color);\n",
              "    box-shadow: 0 1px 2px rgba(60, 64, 67, 0.3), 0 1px 3px 1px rgba(60, 64, 67, 0.15);\n",
              "    fill: var(--button-hover-fill-color);\n",
              "  }\n",
              "\n",
              "  .colab-df-quickchart-complete:disabled,\n",
              "  .colab-df-quickchart-complete:disabled:hover {\n",
              "    background-color: var(--disabled-bg-color);\n",
              "    fill: var(--disabled-fill-color);\n",
              "    box-shadow: none;\n",
              "  }\n",
              "\n",
              "  .colab-df-spinner {\n",
              "    border: 2px solid var(--fill-color);\n",
              "    border-color: transparent;\n",
              "    border-bottom-color: var(--fill-color);\n",
              "    animation:\n",
              "      spin 1s steps(1) infinite;\n",
              "  }\n",
              "\n",
              "  @keyframes spin {\n",
              "    0% {\n",
              "      border-color: transparent;\n",
              "      border-bottom-color: var(--fill-color);\n",
              "      border-left-color: var(--fill-color);\n",
              "    }\n",
              "    20% {\n",
              "      border-color: transparent;\n",
              "      border-left-color: var(--fill-color);\n",
              "      border-top-color: var(--fill-color);\n",
              "    }\n",
              "    30% {\n",
              "      border-color: transparent;\n",
              "      border-left-color: var(--fill-color);\n",
              "      border-top-color: var(--fill-color);\n",
              "      border-right-color: var(--fill-color);\n",
              "    }\n",
              "    40% {\n",
              "      border-color: transparent;\n",
              "      border-right-color: var(--fill-color);\n",
              "      border-top-color: var(--fill-color);\n",
              "    }\n",
              "    60% {\n",
              "      border-color: transparent;\n",
              "      border-right-color: var(--fill-color);\n",
              "    }\n",
              "    80% {\n",
              "      border-color: transparent;\n",
              "      border-right-color: var(--fill-color);\n",
              "      border-bottom-color: var(--fill-color);\n",
              "    }\n",
              "    90% {\n",
              "      border-color: transparent;\n",
              "      border-bottom-color: var(--fill-color);\n",
              "    }\n",
              "  }\n",
              "</style>\n",
              "\n",
              "  <script>\n",
              "    async function quickchart(key) {\n",
              "      const quickchartButtonEl =\n",
              "        document.querySelector('#' + key + ' button');\n",
              "      quickchartButtonEl.disabled = true;  // To prevent multiple clicks.\n",
              "      quickchartButtonEl.classList.add('colab-df-spinner');\n",
              "      try {\n",
              "        const charts = await google.colab.kernel.invokeFunction(\n",
              "            'suggestCharts', [key], {});\n",
              "      } catch (error) {\n",
              "        console.error('Error during call to suggestCharts:', error);\n",
              "      }\n",
              "      quickchartButtonEl.classList.remove('colab-df-spinner');\n",
              "      quickchartButtonEl.classList.add('colab-df-quickchart-complete');\n",
              "    }\n",
              "    (() => {\n",
              "      let quickchartButtonEl =\n",
              "        document.querySelector('#df-75a69414-ee1c-49b2-b38b-2d247f6ec6ee button');\n",
              "      quickchartButtonEl.style.display =\n",
              "        google.colab.kernel.accessAllowed ? 'block' : 'none';\n",
              "    })();\n",
              "  </script>\n",
              "</div>\n",
              "    </div>\n",
              "  </div>\n"
            ],
            "text/plain": [
              "      merged_timestamp                                        merged_info\n",
              "0  2019-01-01 15:24:15  {'boats_combined': 0, 'wake_combined': 1, 'mat...\n",
              "1  2019-01-03 15:38:48  {'boats_combined': 20, 'wake_combined': 7, 'ma...\n",
              "2  2019-01-06 15:38:33  {'boats_combined': 13, 'wake_combined': 2, 'ma...\n",
              "3  2019-01-08 15:31:45  {'boats_combined': 11, 'wake_combined': 2, 'ma...\n",
              "4  2019-01-09 15:38:16  {'boats_combined': 30, 'wake_combined': 1, 'ma...\n",
              "..                 ...                                                ...\n",
              "60 2019-04-13 15:42:43  {'boats_combined': 2, 'wake_combined': 1, 'mat...\n",
              "61 2019-04-15 15:38:52  {'boats_combined': 4, 'wake_combined': 4, 'mat...\n",
              "62 2019-04-18 15:39:20  {'boats_combined': 14, 'wake_combined': 2, 'ma...\n",
              "63 2019-04-19 15:09:28  {'boats_combined': 11, 'wake_combined': 0, 'ma...\n",
              "64 2019-04-19 15:39:57  {'boats_combined': 7, 'wake_combined': 1, 'mat...\n",
              "\n",
              "[65 rows x 2 columns]"
            ]
          },
          "execution_count": 20,
          "metadata": {},
          "output_type": "execute_result"
        }
      ],
      "source": [
        "merged_df = pd.DataFrame(merged_scenes)\n",
        "merged_df"
      ]
    },
    {
      "cell_type": "code",
      "execution_count": null,
      "metadata": {
        "id": "SaBjQZCK2K-E"
      },
      "outputs": [],
      "source": [
        "merged_df['merged_timestamp'].to_csv(\"merged_sceneTimes.csv\", index = False)"
      ]
    },
    {
      "cell_type": "code",
      "execution_count": null,
      "metadata": {
        "colab": {
          "base_uri": "https://localhost:8080/",
          "height": 467
        },
        "id": "vBmHLVjO9Zao",
        "outputId": "df4dfa3d-4ba0-4624-cce1-3a22f23e2718"
      },
      "outputs": [
        {
          "data": {
            "text/plain": [
              "<Axes: xlabel='sceneTime', ylabel='boat'>"
            ]
          },
          "execution_count": 53,
          "metadata": {},
          "output_type": "execute_result"
        },
        {
          "data": {
            "image/png": "[encoded data removed]",
            "text/plain": [
              "<Figure size 640x480 with 1 Axes>"
            ]
          },
          "metadata": {},
          "output_type": "display_data"
        }
      ],
      "source": [
        "sns.scatterplot(data=summary_df, x = \"sceneTime\", y = 'boat',hue = \"matches\")"
      ]
    },
    {
      "cell_type": "code",
      "execution_count": null,
      "metadata": {
        "colab": {
          "base_uri": "https://localhost:8080/",
          "height": 329
        },
        "id": "yT0LnwuT98cl",
        "outputId": "179e81b7-f910-4d37-aa7e-e6b8fec4bfa2"
      },
      "outputs": [
        {
          "data": {
            "text/plain": [
              "<Axes: xlabel='sceneTime', ylabel='boat_wake'>"
            ]
          },
          "execution_count": 62,
          "metadata": {},
          "output_type": "execute_result"
        },
        {
          "data": {
            "image/png": "[encoded data removed]",
            "text/plain": [
              "<Figure size 900x300 with 1 Axes>"
            ]
          },
          "metadata": {},
          "output_type": "display_data"
        }
      ],
      "source": [
        "fig, ax = plt.subplots(figsize=(9, 3))\n",
        "\n",
        "sns.scatterplot(data=summary_df, x = \"sceneTime\", y = 'boat_wake',hue = \"matches\")"
      ]
    },
    {
      "cell_type": "code",
      "execution_count": null,
      "metadata": {
        "colab": {
          "base_uri": "https://localhost:8080/",
          "height": 467
        },
        "id": "RjnMLFZ7-bnr",
        "outputId": "38147429-0111-403f-a738-8a5d526239dc"
      },
      "outputs": [
        {
          "data": {
            "text/plain": [
              "<Axes: xlabel='Month', ylabel='count'>"
            ]
          },
          "execution_count": 83,
          "metadata": {},
          "output_type": "execute_result"
        },
        {
          "data": {
            "image/png": "[encoded data removed]",
            "text/plain": [
              "<Figure size 640x480 with 1 Axes>"
            ]
          },
          "metadata": {},
          "output_type": "display_data"
        }
      ],
      "source": [
        "summary_df['Month'] = summary_df['sceneTime'].dt.to_period('M')\n",
        "sns.countplot(data = summary_df, x = 'Month', hue = 'matches' )"
      ]
    },
    {
      "cell_type": "code",
      "execution_count": null,
      "metadata": {
        "colab": {
          "base_uri": "https://localhost:8080/",
          "height": 467
        },
        "id": "5TErEqi7_n9V",
        "outputId": "9428a8f2-0497-45b8-b3bc-3ef9f06a3f28"
      },
      "outputs": [
        {
          "data": {
            "text/plain": [
              "<Axes: xlabel='Month', ylabel='count'>"
            ]
          },
          "execution_count": 84,
          "metadata": {},
          "output_type": "execute_result"
        },
        {
          "data": {
            "image/png": "[encoded data removed]",
            "text/plain": [
              "<Figure size 640x480 with 1 Axes>"
            ]
          },
          "metadata": {},
          "output_type": "display_data"
        }
      ],
      "source": [
        "\n",
        "df['Month'] = df['sceneTime'].dt.to_period('M')\n",
        "\n",
        "sns.countplot(data = df, x = 'Month', hue = 'class' )"
      ]
    },
    {
      "cell_type": "code",
      "execution_count": null,
      "metadata": {
        "id": "qtrJbuxUAGQx"
      },
      "outputs": [],
      "source": [
        "df2 = pd.merge(dep1, checkImages, how = 'left', on = 'sceneTime')"
      ]
    },
    {
      "cell_type": "code",
      "execution_count": null,
      "metadata": {
        "colab": {
          "base_uri": "https://localhost:8080/",
          "height": 238
        },
        "id": "Vabs7HtzKcc2",
        "outputId": "93e3f6e8-5979-4e1d-a4a5-4e8ae2da39ee"
      },
      "outputs": [
        {
          "data": {
            "application/vnd.google.colaboratory.intrinsic+json": {
              "summary": "{\n  \"name\": \"byclass\",\n  \"rows\": 101,\n  \"fields\": [\n    {\n      \"column\": \"sceneTime\",\n      \"properties\": {\n        \"dtype\": \"date\",\n        \"min\": \"2019-01-01 15:24:15\",\n        \"max\": \"2019-04-19 15:39:58\",\n        \"num_unique_values\": 101,\n        \"samples\": [\n          \"2019-04-03 15:40:03\",\n          \"2019-03-11 15:13:22\",\n          \"2019-03-22 15:11:23\"\n        ],\n        \"semantic_type\": \"\",\n        \"description\": \"\"\n      }\n    },\n    {\n      \"column\": \"boat\",\n      \"properties\": {\n        \"dtype\": \"number\",\n        \"std\": 7,\n        \"min\": 0,\n        \"max\": 35,\n        \"num_unique_values\": 25,\n        \"samples\": [\n          10,\n          12,\n          0\n        ],\n        \"semantic_type\": \"\",\n        \"description\": \"\"\n      }\n    },\n    {\n      \"column\": \"boat_wake\",\n      \"properties\": {\n        \"dtype\": \"number\",\n        \"std\": 1,\n        \"min\": 0,\n        \"max\": 11,\n        \"num_unique_values\": 8,\n        \"samples\": [\n          5,\n          3,\n          1\n        ],\n        \"semantic_type\": \"\",\n        \"description\": \"\"\n      }\n    },\n    {\n      \"column\": \"none\",\n      \"properties\": {\n        \"dtype\": \"number\",\n        \"std\": 7,\n        \"min\": 18,\n        \"max\": 68,\n        \"num_unique_values\": 30,\n        \"samples\": [\n          68,\n          30,\n          50\n        ],\n        \"semantic_type\": \"\",\n        \"description\": \"\"\n      }\n    }\n  ]\n}",
              "type": "dataframe",
              "variable_name": "byclass"
            },
            "text/html": [
              "\n",
              "  <div id=\"df-f5409705-f775-4405-abe6-2022869920e7\" class=\"colab-df-container\">\n",
              "    <div>\n",
              "<style scoped>\n",
              "    .dataframe tbody tr th:only-of-type {\n",
              "        vertical-align: middle;\n",
              "    }\n",
              "\n",
              "    .dataframe tbody tr th {\n",
              "        vertical-align: top;\n",
              "    }\n",
              "\n",
              "    .dataframe thead th {\n",
              "        text-align: right;\n",
              "    }\n",
              "</style>\n",
              "<table border=\"1\" class=\"dataframe\">\n",
              "  <thead>\n",
              "    <tr style=\"text-align: right;\">\n",
              "      <th>class</th>\n",
              "      <th>boat</th>\n",
              "      <th>boat_wake</th>\n",
              "      <th>none</th>\n",
              "    </tr>\n",
              "    <tr>\n",
              "      <th>sceneTime</th>\n",
              "      <th></th>\n",
              "      <th></th>\n",
              "      <th></th>\n",
              "    </tr>\n",
              "  </thead>\n",
              "  <tbody>\n",
              "    <tr>\n",
              "      <th>2019-01-01 15:24:15</th>\n",
              "      <td>0</td>\n",
              "      <td>1</td>\n",
              "      <td>33</td>\n",
              "    </tr>\n",
              "    <tr>\n",
              "      <th>2019-01-03 15:38:48</th>\n",
              "      <td>17</td>\n",
              "      <td>5</td>\n",
              "      <td>37</td>\n",
              "    </tr>\n",
              "    <tr>\n",
              "      <th>2019-01-03 15:38:49</th>\n",
              "      <td>3</td>\n",
              "      <td>2</td>\n",
              "      <td>25</td>\n",
              "    </tr>\n",
              "    <tr>\n",
              "      <th>2019-01-06 15:38:33</th>\n",
              "      <td>7</td>\n",
              "      <td>1</td>\n",
              "      <td>40</td>\n",
              "    </tr>\n",
              "    <tr>\n",
              "      <th>2019-01-06 15:38:34</th>\n",
              "      <td>6</td>\n",
              "      <td>1</td>\n",
              "      <td>31</td>\n",
              "    </tr>\n",
              "  </tbody>\n",
              "</table>\n",
              "</div>\n",
              "    <div class=\"colab-df-buttons\">\n",
              "\n",
              "  <div class=\"colab-df-container\">\n",
              "    <button class=\"colab-df-convert\" onclick=\"convertToInteractive('df-f5409705-f775-4405-abe6-2022869920e7')\"\n",
              "            title=\"Convert this dataframe to an interactive table.\"\n",
              "            style=\"display:none;\">\n",
              "\n",
              "  <svg xmlns=\"http://www.w3.org/2000/svg\" height=\"24px\" viewBox=\"0 -960 960 960\">\n",
              "    <path d=\"M120-120v-720h720v720H120Zm60-500h600v-160H180v160Zm220 220h160v-160H400v160Zm0 220h160v-160H400v160ZM180-400h160v-160H180v160Zm440 0h160v-160H620v160ZM180-180h160v-160H180v160Zm440 0h160v-160H620v160Z\"/>\n",
              "  </svg>\n",
              "    </button>\n",
              "\n",
              "  <style>\n",
              "    .colab-df-container {\n",
              "      display:flex;\n",
              "      gap: 12px;\n",
              "    }\n",
              "\n",
              "    .colab-df-convert {\n",
              "      background-color: #E8F0FE;\n",
              "      border: none;\n",
              "      border-radius: 50%;\n",
              "      cursor: pointer;\n",
              "      display: none;\n",
              "      fill: #1967D2;\n",
              "      height: 32px;\n",
              "      padding: 0 0 0 0;\n",
              "      width: 32px;\n",
              "    }\n",
              "\n",
              "    .colab-df-convert:hover {\n",
              "      background-color: #E2EBFA;\n",
              "      box-shadow: 0px 1px 2px rgba(60, 64, 67, 0.3), 0px 1px 3px 1px rgba(60, 64, 67, 0.15);\n",
              "      fill: #174EA6;\n",
              "    }\n",
              "\n",
              "    .colab-df-buttons div {\n",
              "      margin-bottom: 4px;\n",
              "    }\n",
              "\n",
              "    [theme=dark] .colab-df-convert {\n",
              "      background-color: #3B4455;\n",
              "      fill: #D2E3FC;\n",
              "    }\n",
              "\n",
              "    [theme=dark] .colab-df-convert:hover {\n",
              "      background-color: #434B5C;\n",
              "      box-shadow: 0px 1px 3px 1px rgba(0, 0, 0, 0.15);\n",
              "      filter: drop-shadow(0px 1px 2px rgba(0, 0, 0, 0.3));\n",
              "      fill: #FFFFFF;\n",
              "    }\n",
              "  </style>\n",
              "\n",
              "    <script>\n",
              "      const buttonEl =\n",
              "        document.querySelector('#df-f5409705-f775-4405-abe6-2022869920e7 button.colab-df-convert');\n",
              "      buttonEl.style.display =\n",
              "        google.colab.kernel.accessAllowed ? 'block' : 'none';\n",
              "\n",
              "      async function convertToInteractive(key) {\n",
              "        const element = document.querySelector('#df-f5409705-f775-4405-abe6-2022869920e7');\n",
              "        const dataTable =\n",
              "          await google.colab.kernel.invokeFunction('convertToInteractive',\n",
              "                                                    [key], {});\n",
              "        if (!dataTable) return;\n",
              "\n",
              "        const docLinkHtml = 'Like what you see? Visit the ' +\n",
              "          '<a target=\"_blank\" href=https://colab.research.google.com/notebooks/data_table.ipynb>data table notebook</a>'\n",
              "          + ' to learn more about interactive tables.';\n",
              "        element.innerHTML = '';\n",
              "        dataTable['output_type'] = 'display_data';\n",
              "        await google.colab.output.renderOutput(dataTable, element);\n",
              "        const docLink = document.createElement('div');\n",
              "        docLink.innerHTML = docLinkHtml;\n",
              "        element.appendChild(docLink);\n",
              "      }\n",
              "    </script>\n",
              "  </div>\n",
              "\n",
              "\n",
              "<div id=\"df-d75a4e36-b371-4780-88e1-2ae4efcf51f2\">\n",
              "  <button class=\"colab-df-quickchart\" onclick=\"quickchart('df-d75a4e36-b371-4780-88e1-2ae4efcf51f2')\"\n",
              "            title=\"Suggest charts\"\n",
              "            style=\"display:none;\">\n",
              "\n",
              "<svg xmlns=\"http://www.w3.org/2000/svg\" height=\"24px\"viewBox=\"0 0 24 24\"\n",
              "     width=\"24px\">\n",
              "    <g>\n",
              "        <path d=\"M19 3H5c-1.1 0-2 .9-2 2v14c0 1.1.9 2 2 2h14c1.1 0 2-.9 2-2V5c0-1.1-.9-2-2-2zM9 17H7v-7h2v7zm4 0h-2V7h2v10zm4 0h-2v-4h2v4z\"/>\n",
              "    </g>\n",
              "</svg>\n",
              "  </button>\n",
              "\n",
              "<style>\n",
              "  .colab-df-quickchart {\n",
              "      --bg-color: #E8F0FE;\n",
              "      --fill-color: #1967D2;\n",
              "      --hover-bg-color: #E2EBFA;\n",
              "      --hover-fill-color: #174EA6;\n",
              "      --disabled-fill-color: #AAA;\n",
              "      --disabled-bg-color: #DDD;\n",
              "  }\n",
              "\n",
              "  [theme=dark] .colab-df-quickchart {\n",
              "      --bg-color: #3B4455;\n",
              "      --fill-color: #D2E3FC;\n",
              "      --hover-bg-color: #434B5C;\n",
              "      --hover-fill-color: #FFFFFF;\n",
              "      --disabled-bg-color: #3B4455;\n",
              "      --disabled-fill-color: #666;\n",
              "  }\n",
              "\n",
              "  .colab-df-quickchart {\n",
              "    background-color: var(--bg-color);\n",
              "    border: none;\n",
              "    border-radius: 50%;\n",
              "    cursor: pointer;\n",
              "    display: none;\n",
              "    fill: var(--fill-color);\n",
              "    height: 32px;\n",
              "    padding: 0;\n",
              "    width: 32px;\n",
              "  }\n",
              "\n",
              "  .colab-df-quickchart:hover {\n",
              "    background-color: var(--hover-bg-color);\n",
              "    box-shadow: 0 1px 2px rgba(60, 64, 67, 0.3), 0 1px 3px 1px rgba(60, 64, 67, 0.15);\n",
              "    fill: var(--button-hover-fill-color);\n",
              "  }\n",
              "\n",
              "  .colab-df-quickchart-complete:disabled,\n",
              "  .colab-df-quickchart-complete:disabled:hover {\n",
              "    background-color: var(--disabled-bg-color);\n",
              "    fill: var(--disabled-fill-color);\n",
              "    box-shadow: none;\n",
              "  }\n",
              "\n",
              "  .colab-df-spinner {\n",
              "    border: 2px solid var(--fill-color);\n",
              "    border-color: transparent;\n",
              "    border-bottom-color: var(--fill-color);\n",
              "    animation:\n",
              "      spin 1s steps(1) infinite;\n",
              "  }\n",
              "\n",
              "  @keyframes spin {\n",
              "    0% {\n",
              "      border-color: transparent;\n",
              "      border-bottom-color: var(--fill-color);\n",
              "      border-left-color: var(--fill-color);\n",
              "    }\n",
              "    20% {\n",
              "      border-color: transparent;\n",
              "      border-left-color: var(--fill-color);\n",
              "      border-top-color: var(--fill-color);\n",
              "    }\n",
              "    30% {\n",
              "      border-color: transparent;\n",
              "      border-left-color: var(--fill-color);\n",
              "      border-top-color: var(--fill-color);\n",
              "      border-right-color: var(--fill-color);\n",
              "    }\n",
              "    40% {\n",
              "      border-color: transparent;\n",
              "      border-right-color: var(--fill-color);\n",
              "      border-top-color: var(--fill-color);\n",
              "    }\n",
              "    60% {\n",
              "      border-color: transparent;\n",
              "      border-right-color: var(--fill-color);\n",
              "    }\n",
              "    80% {\n",
              "      border-color: transparent;\n",
              "      border-right-color: var(--fill-color);\n",
              "      border-bottom-color: var(--fill-color);\n",
              "    }\n",
              "    90% {\n",
              "      border-color: transparent;\n",
              "      border-bottom-color: var(--fill-color);\n",
              "    }\n",
              "  }\n",
              "</style>\n",
              "\n",
              "  <script>\n",
              "    async function quickchart(key) {\n",
              "      const quickchartButtonEl =\n",
              "        document.querySelector('#' + key + ' button');\n",
              "      quickchartButtonEl.disabled = true;  // To prevent multiple clicks.\n",
              "      quickchartButtonEl.classList.add('colab-df-spinner');\n",
              "      try {\n",
              "        const charts = await google.colab.kernel.invokeFunction(\n",
              "            'suggestCharts', [key], {});\n",
              "      } catch (error) {\n",
              "        console.error('Error during call to suggestCharts:', error);\n",
              "      }\n",
              "      quickchartButtonEl.classList.remove('colab-df-spinner');\n",
              "      quickchartButtonEl.classList.add('colab-df-quickchart-complete');\n",
              "    }\n",
              "    (() => {\n",
              "      let quickchartButtonEl =\n",
              "        document.querySelector('#df-d75a4e36-b371-4780-88e1-2ae4efcf51f2 button');\n",
              "      quickchartButtonEl.style.display =\n",
              "        google.colab.kernel.accessAllowed ? 'block' : 'none';\n",
              "    })();\n",
              "  </script>\n",
              "</div>\n",
              "    </div>\n",
              "  </div>\n"
            ],
            "text/plain": [
              "class                boat  boat_wake  none\n",
              "sceneTime                                 \n",
              "2019-01-01 15:24:15     0          1    33\n",
              "2019-01-03 15:38:48    17          5    37\n",
              "2019-01-03 15:38:49     3          2    25\n",
              "2019-01-06 15:38:33     7          1    40\n",
              "2019-01-06 15:38:34     6          1    31"
            ]
          },
          "execution_count": 24,
          "metadata": {},
          "output_type": "execute_result"
        }
      ],
      "source": [
        "byclass = df2.groupby(['sceneTime', 'class']).size().unstack(fill_value=0)\n",
        "byclass.head()"
      ]
    },
    {
      "cell_type": "code",
      "execution_count": null,
      "metadata": {
        "id": "5PneDAlnKnjP"
      },
      "outputs": [],
      "source": [
        "byclass = pd.merge(byclass,checkImages, how = 'left', on = 'sceneTime')"
      ]
    },
    {
      "cell_type": "code",
      "execution_count": null,
      "metadata": {
        "colab": {
          "base_uri": "https://localhost:8080/",
          "height": 424
        },
        "id": "Kzeane_yK3Bq",
        "outputId": "6ed4cbe4-f90a-4a79-d0e1-4a91b2787e7f"
      },
      "outputs": [
        {
          "data": {
            "application/vnd.google.colaboratory.intrinsic+json": {
              "summary": "{\n  \"name\": \"byclass\",\n  \"rows\": 101,\n  \"fields\": [\n    {\n      \"column\": \"sceneTime\",\n      \"properties\": {\n        \"dtype\": \"date\",\n        \"min\": \"2019-01-01 15:24:15\",\n        \"max\": \"2019-04-19 15:39:58\",\n        \"num_unique_values\": 101,\n        \"samples\": [\n          \"2019-04-03 15:40:03\",\n          \"2019-03-11 15:13:22\",\n          \"2019-03-22 15:11:23\"\n        ],\n        \"semantic_type\": \"\",\n        \"description\": \"\"\n      }\n    },\n    {\n      \"column\": \"boat\",\n      \"properties\": {\n        \"dtype\": \"number\",\n        \"std\": 7,\n        \"min\": 0,\n        \"max\": 35,\n        \"num_unique_values\": 25,\n        \"samples\": [\n          10,\n          12,\n          0\n        ],\n        \"semantic_type\": \"\",\n        \"description\": \"\"\n      }\n    },\n    {\n      \"column\": \"boat_wake\",\n      \"properties\": {\n        \"dtype\": \"number\",\n        \"std\": 1,\n        \"min\": 0,\n        \"max\": 11,\n        \"num_unique_values\": 8,\n        \"samples\": [\n          5,\n          3,\n          1\n        ],\n        \"semantic_type\": \"\",\n        \"description\": \"\"\n      }\n    },\n    {\n      \"column\": \"none\",\n      \"properties\": {\n        \"dtype\": \"number\",\n        \"std\": 7,\n        \"min\": 18,\n        \"max\": 68,\n        \"num_unique_values\": 30,\n        \"samples\": [\n          68,\n          30,\n          50\n        ],\n        \"semantic_type\": \"\",\n        \"description\": \"\"\n      }\n    },\n    {\n      \"column\": \"matches\",\n      \"properties\": {\n        \"dtype\": \"boolean\",\n        \"num_unique_values\": 2,\n        \"samples\": [\n          true,\n          false\n        ],\n        \"semantic_type\": \"\",\n        \"description\": \"\"\n      }\n    }\n  ]\n}",
              "type": "dataframe",
              "variable_name": "byclass"
            },
            "text/html": [
              "\n",
              "  <div id=\"df-2435a7c1-0b70-4c92-8f42-5d7fe7e5e679\" class=\"colab-df-container\">\n",
              "    <div>\n",
              "<style scoped>\n",
              "    .dataframe tbody tr th:only-of-type {\n",
              "        vertical-align: middle;\n",
              "    }\n",
              "\n",
              "    .dataframe tbody tr th {\n",
              "        vertical-align: top;\n",
              "    }\n",
              "\n",
              "    .dataframe thead th {\n",
              "        text-align: right;\n",
              "    }\n",
              "</style>\n",
              "<table border=\"1\" class=\"dataframe\">\n",
              "  <thead>\n",
              "    <tr style=\"text-align: right;\">\n",
              "      <th></th>\n",
              "      <th>sceneTime</th>\n",
              "      <th>boat</th>\n",
              "      <th>boat_wake</th>\n",
              "      <th>none</th>\n",
              "      <th>matches</th>\n",
              "    </tr>\n",
              "  </thead>\n",
              "  <tbody>\n",
              "    <tr>\n",
              "      <th>0</th>\n",
              "      <td>2019-01-01 15:24:15</td>\n",
              "      <td>0</td>\n",
              "      <td>1</td>\n",
              "      <td>33</td>\n",
              "      <td>False</td>\n",
              "    </tr>\n",
              "    <tr>\n",
              "      <th>1</th>\n",
              "      <td>2019-01-03 15:38:48</td>\n",
              "      <td>17</td>\n",
              "      <td>5</td>\n",
              "      <td>37</td>\n",
              "      <td>False</td>\n",
              "    </tr>\n",
              "    <tr>\n",
              "      <th>2</th>\n",
              "      <td>2019-01-03 15:38:49</td>\n",
              "      <td>3</td>\n",
              "      <td>2</td>\n",
              "      <td>25</td>\n",
              "      <td>False</td>\n",
              "    </tr>\n",
              "    <tr>\n",
              "      <th>3</th>\n",
              "      <td>2019-01-06 15:38:33</td>\n",
              "      <td>7</td>\n",
              "      <td>1</td>\n",
              "      <td>40</td>\n",
              "      <td>False</td>\n",
              "    </tr>\n",
              "    <tr>\n",
              "      <th>4</th>\n",
              "      <td>2019-01-06 15:38:34</td>\n",
              "      <td>6</td>\n",
              "      <td>1</td>\n",
              "      <td>31</td>\n",
              "      <td>False</td>\n",
              "    </tr>\n",
              "    <tr>\n",
              "      <th>...</th>\n",
              "      <td>...</td>\n",
              "      <td>...</td>\n",
              "      <td>...</td>\n",
              "      <td>...</td>\n",
              "      <td>...</td>\n",
              "    </tr>\n",
              "    <tr>\n",
              "      <th>96</th>\n",
              "      <td>2019-04-18 15:39:21</td>\n",
              "      <td>8</td>\n",
              "      <td>2</td>\n",
              "      <td>37</td>\n",
              "      <td>True</td>\n",
              "    </tr>\n",
              "    <tr>\n",
              "      <th>97</th>\n",
              "      <td>2019-04-19 15:09:28</td>\n",
              "      <td>9</td>\n",
              "      <td>0</td>\n",
              "      <td>39</td>\n",
              "      <td>False</td>\n",
              "    </tr>\n",
              "    <tr>\n",
              "      <th>98</th>\n",
              "      <td>2019-04-19 15:09:29</td>\n",
              "      <td>2</td>\n",
              "      <td>0</td>\n",
              "      <td>26</td>\n",
              "      <td>False</td>\n",
              "    </tr>\n",
              "    <tr>\n",
              "      <th>99</th>\n",
              "      <td>2019-04-19 15:39:57</td>\n",
              "      <td>2</td>\n",
              "      <td>1</td>\n",
              "      <td>33</td>\n",
              "      <td>True</td>\n",
              "    </tr>\n",
              "    <tr>\n",
              "      <th>100</th>\n",
              "      <td>2019-04-19 15:39:58</td>\n",
              "      <td>5</td>\n",
              "      <td>0</td>\n",
              "      <td>38</td>\n",
              "      <td>True</td>\n",
              "    </tr>\n",
              "  </tbody>\n",
              "</table>\n",
              "<p>101 rows × 5 columns</p>\n",
              "</div>\n",
              "    <div class=\"colab-df-buttons\">\n",
              "\n",
              "  <div class=\"colab-df-container\">\n",
              "    <button class=\"colab-df-convert\" onclick=\"convertToInteractive('df-2435a7c1-0b70-4c92-8f42-5d7fe7e5e679')\"\n",
              "            title=\"Convert this dataframe to an interactive table.\"\n",
              "            style=\"display:none;\">\n",
              "\n",
              "  <svg xmlns=\"http://www.w3.org/2000/svg\" height=\"24px\" viewBox=\"0 -960 960 960\">\n",
              "    <path d=\"M120-120v-720h720v720H120Zm60-500h600v-160H180v160Zm220 220h160v-160H400v160Zm0 220h160v-160H400v160ZM180-400h160v-160H180v160Zm440 0h160v-160H620v160ZM180-180h160v-160H180v160Zm440 0h160v-160H620v160Z\"/>\n",
              "  </svg>\n",
              "    </button>\n",
              "\n",
              "  <style>\n",
              "    .colab-df-container {\n",
              "      display:flex;\n",
              "      gap: 12px;\n",
              "    }\n",
              "\n",
              "    .colab-df-convert {\n",
              "      background-color: #E8F0FE;\n",
              "      border: none;\n",
              "      border-radius: 50%;\n",
              "      cursor: pointer;\n",
              "      display: none;\n",
              "      fill: #1967D2;\n",
              "      height: 32px;\n",
              "      padding: 0 0 0 0;\n",
              "      width: 32px;\n",
              "    }\n",
              "\n",
              "    .colab-df-convert:hover {\n",
              "      background-color: #E2EBFA;\n",
              "      box-shadow: 0px 1px 2px rgba(60, 64, 67, 0.3), 0px 1px 3px 1px rgba(60, 64, 67, 0.15);\n",
              "      fill: #174EA6;\n",
              "    }\n",
              "\n",
              "    .colab-df-buttons div {\n",
              "      margin-bottom: 4px;\n",
              "    }\n",
              "\n",
              "    [theme=dark] .colab-df-convert {\n",
              "      background-color: #3B4455;\n",
              "      fill: #D2E3FC;\n",
              "    }\n",
              "\n",
              "    [theme=dark] .colab-df-convert:hover {\n",
              "      background-color: #434B5C;\n",
              "      box-shadow: 0px 1px 3px 1px rgba(0, 0, 0, 0.15);\n",
              "      filter: drop-shadow(0px 1px 2px rgba(0, 0, 0, 0.3));\n",
              "      fill: #FFFFFF;\n",
              "    }\n",
              "  </style>\n",
              "\n",
              "    <script>\n",
              "      const buttonEl =\n",
              "        document.querySelector('#df-2435a7c1-0b70-4c92-8f42-5d7fe7e5e679 button.colab-df-convert');\n",
              "      buttonEl.style.display =\n",
              "        google.colab.kernel.accessAllowed ? 'block' : 'none';\n",
              "\n",
              "      async function convertToInteractive(key) {\n",
              "        const element = document.querySelector('#df-2435a7c1-0b70-4c92-8f42-5d7fe7e5e679');\n",
              "        const dataTable =\n",
              "          await google.colab.kernel.invokeFunction('convertToInteractive',\n",
              "                                                    [key], {});\n",
              "        if (!dataTable) return;\n",
              "\n",
              "        const docLinkHtml = 'Like what you see? Visit the ' +\n",
              "          '<a target=\"_blank\" href=https://colab.research.google.com/notebooks/data_table.ipynb>data table notebook</a>'\n",
              "          + ' to learn more about interactive tables.';\n",
              "        element.innerHTML = '';\n",
              "        dataTable['output_type'] = 'display_data';\n",
              "        await google.colab.output.renderOutput(dataTable, element);\n",
              "        const docLink = document.createElement('div');\n",
              "        docLink.innerHTML = docLinkHtml;\n",
              "        element.appendChild(docLink);\n",
              "      }\n",
              "    </script>\n",
              "  </div>\n",
              "\n",
              "\n",
              "<div id=\"df-9f3f1260-c381-4486-bc4a-a43d22daf695\">\n",
              "  <button class=\"colab-df-quickchart\" onclick=\"quickchart('df-9f3f1260-c381-4486-bc4a-a43d22daf695')\"\n",
              "            title=\"Suggest charts\"\n",
              "            style=\"display:none;\">\n",
              "\n",
              "<svg xmlns=\"http://www.w3.org/2000/svg\" height=\"24px\"viewBox=\"0 0 24 24\"\n",
              "     width=\"24px\">\n",
              "    <g>\n",
              "        <path d=\"M19 3H5c-1.1 0-2 .9-2 2v14c0 1.1.9 2 2 2h14c1.1 0 2-.9 2-2V5c0-1.1-.9-2-2-2zM9 17H7v-7h2v7zm4 0h-2V7h2v10zm4 0h-2v-4h2v4z\"/>\n",
              "    </g>\n",
              "</svg>\n",
              "  </button>\n",
              "\n",
              "<style>\n",
              "  .colab-df-quickchart {\n",
              "      --bg-color: #E8F0FE;\n",
              "      --fill-color: #1967D2;\n",
              "      --hover-bg-color: #E2EBFA;\n",
              "      --hover-fill-color: #174EA6;\n",
              "      --disabled-fill-color: #AAA;\n",
              "      --disabled-bg-color: #DDD;\n",
              "  }\n",
              "\n",
              "  [theme=dark] .colab-df-quickchart {\n",
              "      --bg-color: #3B4455;\n",
              "      --fill-color: #D2E3FC;\n",
              "      --hover-bg-color: #434B5C;\n",
              "      --hover-fill-color: #FFFFFF;\n",
              "      --disabled-bg-color: #3B4455;\n",
              "      --disabled-fill-color: #666;\n",
              "  }\n",
              "\n",
              "  .colab-df-quickchart {\n",
              "    background-color: var(--bg-color);\n",
              "    border: none;\n",
              "    border-radius: 50%;\n",
              "    cursor: pointer;\n",
              "    display: none;\n",
              "    fill: var(--fill-color);\n",
              "    height: 32px;\n",
              "    padding: 0;\n",
              "    width: 32px;\n",
              "  }\n",
              "\n",
              "  .colab-df-quickchart:hover {\n",
              "    background-color: var(--hover-bg-color);\n",
              "    box-shadow: 0 1px 2px rgba(60, 64, 67, 0.3), 0 1px 3px 1px rgba(60, 64, 67, 0.15);\n",
              "    fill: var(--button-hover-fill-color);\n",
              "  }\n",
              "\n",
              "  .colab-df-quickchart-complete:disabled,\n",
              "  .colab-df-quickchart-complete:disabled:hover {\n",
              "    background-color: var(--disabled-bg-color);\n",
              "    fill: var(--disabled-fill-color);\n",
              "    box-shadow: none;\n",
              "  }\n",
              "\n",
              "  .colab-df-spinner {\n",
              "    border: 2px solid var(--fill-color);\n",
              "    border-color: transparent;\n",
              "    border-bottom-color: var(--fill-color);\n",
              "    animation:\n",
              "      spin 1s steps(1) infinite;\n",
              "  }\n",
              "\n",
              "  @keyframes spin {\n",
              "    0% {\n",
              "      border-color: transparent;\n",
              "      border-bottom-color: var(--fill-color);\n",
              "      border-left-color: var(--fill-color);\n",
              "    }\n",
              "    20% {\n",
              "      border-color: transparent;\n",
              "      border-left-color: var(--fill-color);\n",
              "      border-top-color: var(--fill-color);\n",
              "    }\n",
              "    30% {\n",
              "      border-color: transparent;\n",
              "      border-left-color: var(--fill-color);\n",
              "      border-top-color: var(--fill-color);\n",
              "      border-right-color: var(--fill-color);\n",
              "    }\n",
              "    40% {\n",
              "      border-color: transparent;\n",
              "      border-right-color: var(--fill-color);\n",
              "      border-top-color: var(--fill-color);\n",
              "    }\n",
              "    60% {\n",
              "      border-color: transparent;\n",
              "      border-right-color: var(--fill-color);\n",
              "    }\n",
              "    80% {\n",
              "      border-color: transparent;\n",
              "      border-right-color: var(--fill-color);\n",
              "      border-bottom-color: var(--fill-color);\n",
              "    }\n",
              "    90% {\n",
              "      border-color: transparent;\n",
              "      border-bottom-color: var(--fill-color);\n",
              "    }\n",
              "  }\n",
              "</style>\n",
              "\n",
              "  <script>\n",
              "    async function quickchart(key) {\n",
              "      const quickchartButtonEl =\n",
              "        document.querySelector('#' + key + ' button');\n",
              "      quickchartButtonEl.disabled = true;  // To prevent multiple clicks.\n",
              "      quickchartButtonEl.classList.add('colab-df-spinner');\n",
              "      try {\n",
              "        const charts = await google.colab.kernel.invokeFunction(\n",
              "            'suggestCharts', [key], {});\n",
              "      } catch (error) {\n",
              "        console.error('Error during call to suggestCharts:', error);\n",
              "      }\n",
              "      quickchartButtonEl.classList.remove('colab-df-spinner');\n",
              "      quickchartButtonEl.classList.add('colab-df-quickchart-complete');\n",
              "    }\n",
              "    (() => {\n",
              "      let quickchartButtonEl =\n",
              "        document.querySelector('#df-9f3f1260-c381-4486-bc4a-a43d22daf695 button');\n",
              "      quickchartButtonEl.style.display =\n",
              "        google.colab.kernel.accessAllowed ? 'block' : 'none';\n",
              "    })();\n",
              "  </script>\n",
              "</div>\n",
              "    </div>\n",
              "  </div>\n"
            ],
            "text/plain": [
              "              sceneTime  boat  boat_wake  none  matches\n",
              "0   2019-01-01 15:24:15     0          1    33    False\n",
              "1   2019-01-03 15:38:48    17          5    37    False\n",
              "2   2019-01-03 15:38:49     3          2    25    False\n",
              "3   2019-01-06 15:38:33     7          1    40    False\n",
              "4   2019-01-06 15:38:34     6          1    31    False\n",
              "..                  ...   ...        ...   ...      ...\n",
              "96  2019-04-18 15:39:21     8          2    37     True\n",
              "97  2019-04-19 15:09:28     9          0    39    False\n",
              "98  2019-04-19 15:09:29     2          0    26    False\n",
              "99  2019-04-19 15:39:57     2          1    33     True\n",
              "100 2019-04-19 15:39:58     5          0    38     True\n",
              "\n",
              "[101 rows x 5 columns]"
            ]
          },
          "execution_count": 26,
          "metadata": {},
          "output_type": "execute_result"
        }
      ],
      "source": [
        "byclass"
      ]
    },
    {
      "cell_type": "markdown",
      "metadata": {
        "id": "74omGMGGU-_M"
      },
      "source": [
        "## Old code"
      ]
    },
    {
      "cell_type": "code",
      "execution_count": null,
      "metadata": {
        "id": "wfP_ZlIiVBWE"
      },
      "outputs": [],
      "source": [
        "#Figure out which scenes from WDR we need to re-label the new detections\n",
        "\n",
        "new = planet[planet['class'] == 'new_detection']\n",
        "new_scenes = list(new['sceneName'].unique())\n",
        "\n",
        "verified = planet[planet['class'] != 'new_detection']\n",
        "verified_scenes = list(verified['sceneName'].unique())\n",
        "\n",
        "processed_scenes = []\n",
        "for s in verified_scenes:\n",
        "  if s not in new_scenes:\n",
        "    processed_scenes.append(s)\n",
        "\n",
        "p = pd.DataFrame({'imgName': processed_scenes})\n",
        "p.to_csv('processed.csv', index = False)"
      ]
    }
  ],
  "metadata": {
    "colab": {
      "provenance": []
    },
    "kernelspec": {
      "display_name": "Python 3",
      "name": "python3"
    },
    "language_info": {
      "codemirror_mode": {
        "name": "ipython",
        "version": 3
      },
      "file_extension": ".py",
      "mimetype": "text/x-python",
      "name": "python",
      "nbconvert_exporter": "python",
      "pygments_lexer": "ipython3",
      "version": "3.12.2"
    }
  },
  "nbformat": 4,
  "nbformat_minor": 0
}
